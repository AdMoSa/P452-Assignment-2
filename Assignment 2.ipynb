{
 "cells": [
  {
   "cell_type": "markdown",
   "metadata": {},
   "source": [
    "# Question 1"
   ]
  },
  {
   "cell_type": "code",
   "execution_count": 1,
   "metadata": {},
   "outputs": [],
   "source": [
    "with open('assign2fit.txt') as fin, open('fit.txt', 'w') as fout:\n",
    "    for line in fin:\n",
    "        fout.write(line.replace('\\t', ','))\n",
    "fin = open(\"fit.txt\", \"rt\")\n",
    "data = fin.read()\n",
    "data = data.replace('#', '').replace(' ','')\n",
    "fin.close()\n",
    "fin = open(\"fit.txt\", \"wt\")\n",
    "fin.write(data)\n",
    "fin.close()"
   ]
  },
  {
   "cell_type": "code",
   "execution_count": 2,
   "metadata": {},
   "outputs": [],
   "source": [
    "import pandas as pd\n",
    "\n",
    "read_file = pd.read_csv (r'E:\\NISER\\Physics\\Online classes\\P452-Comp Phy\\Assignment 2\\fit.txt')\n",
    "read_file.to_csv (r'E:\\NISER\\Physics\\Online classes\\P452-Comp Phy\\Assignment 2\\fit.csv', index=None)"
   ]
  },
  {
   "cell_type": "code",
   "execution_count": 3,
   "metadata": {},
   "outputs": [
    {
     "name": "stdout",
     "output_type": "stream",
     "text": [
      "       x      y\n",
      "0   0.00  0.486\n",
      "1   0.05  0.866\n",
      "2   0.10  0.944\n",
      "3   0.15  1.144\n",
      "4   0.20  1.103\n",
      "5   0.25  1.202\n",
      "6   0.30  1.166\n",
      "7   0.35  1.191\n",
      "8   0.40  1.124\n",
      "9   0.45  1.095\n",
      "10  0.50  1.122\n",
      "11  0.55  1.102\n",
      "12  0.60  1.099\n",
      "13  0.65  1.017\n",
      "14  0.70  1.111\n",
      "15  0.75  1.117\n",
      "16  0.80  1.152\n",
      "17  0.85  1.265\n",
      "18  0.90  1.380\n",
      "19  0.95  1.575\n",
      "20  1.00  1.857\n"
     ]
    }
   ],
   "source": [
    "df = pd.read_csv (r'E:\\NISER\\Physics\\Online classes\\P452-Comp Phy\\Assignment 2\\fit.csv')\n",
    "print(df)"
   ]
  },
  {
   "cell_type": "code",
   "execution_count": 4,
   "metadata": {},
   "outputs": [
    {
     "name": "stdout",
     "output_type": "stream",
     "text": [
      "[0.   0.05 0.1  0.15 0.2  0.25 0.3  0.35 0.4  0.45 0.5  0.55 0.6  0.65\n",
      " 0.7  0.75 0.8  0.85 0.9  0.95 1.  ] [0.486 0.866 0.944 1.144 1.103 1.202 1.166 1.191 1.124 1.095 1.122 1.102\n",
      " 1.099 1.017 1.111 1.117 1.152 1.265 1.38  1.575 1.857]\n"
     ]
    }
   ],
   "source": [
    "x = df['x'].to_numpy()\n",
    "y = df['y'].to_numpy()\n",
    "print(x,y)"
   ]
  },
  {
   "cell_type": "code",
   "execution_count": 5,
   "metadata": {},
   "outputs": [],
   "source": [
    "import numpy as np"
   ]
  },
  {
   "cell_type": "markdown",
   "metadata": {},
   "source": [
    "## Original basis"
   ]
  },
  {
   "cell_type": "code",
   "execution_count": 6,
   "metadata": {},
   "outputs": [],
   "source": [
    "row = len(x)\n",
    "mat_A = np.zeros((row,4))\n",
    "\n",
    "for i in range(row):\n",
    "    for j in range(4):\n",
    "        mat_A[i][j]= pow(x[i],j)\n",
    "mat_At = mat_A.T\n",
    "mat_A1 = np.dot(mat_At,mat_A)\n",
    "mat_y1 = np.dot(mat_At,y)\n"
   ]
  },
  {
   "cell_type": "code",
   "execution_count": 7,
   "metadata": {},
   "outputs": [],
   "source": [
    "from comp_phy import Conjugate_Gradient as CG"
   ]
  },
  {
   "cell_type": "code",
   "execution_count": 8,
   "metadata": {},
   "outputs": [
    {
     "name": "stdout",
     "output_type": "stream",
     "text": [
      "Iteration: 4 \t x = [  0.57465867   4.72586144 -11.12821778   7.66867762] \t residual = 0.0000\n"
     ]
    }
   ],
   "source": [
    "x_ini = np.ones(4)\n",
    "mat_c = CG.Conjugate_Gradient(mat_A1,mat_y1,x_ini)     #coefficient matrix"
   ]
  },
  {
   "cell_type": "code",
   "execution_count": 15,
   "metadata": {},
   "outputs": [],
   "source": [
    "coeffs = np.flip(mat_c)"
   ]
  },
  {
   "cell_type": "code",
   "execution_count": 13,
   "metadata": {},
   "outputs": [],
   "source": [
    "import matplotlib.pyplot as plt"
   ]
  },
  {
   "cell_type": "code",
   "execution_count": 29,
   "metadata": {},
   "outputs": [
    {
     "data": {
      "text/plain": [
       "(-1.0, 2.0)"
      ]
     },
     "execution_count": 29,
     "metadata": {},
     "output_type": "execute_result"
    },
    {
     "data": {
      "image/png": "[encoded data removed]",
      "text/plain": [
       "<Figure size 432x288 with 1 Axes>"
      ]
     },
     "metadata": {
      "needs_background": "light"
     },
     "output_type": "display_data"
    }
   ],
   "source": [
    "poly = np.poly1d(coeffs)\n",
    "\n",
    "\n",
    "x_new = np.linspace(x[0],x[-1])\n",
    "\n",
    "y_new = np.polyval(poly, x_new)\n",
    "\n",
    "plt.plot(x, y, \"o\", x_new, y_new)\n",
    "\n",
    "plt.xlim([x[0]-1, x[-1] + 1 ])\n"
   ]
  },
  {
   "cell_type": "markdown",
   "metadata": {},
   "source": [
    "## Modified Basis"
   ]
  },
  {
   "cell_type": "code",
   "execution_count": 22,
   "metadata": {},
   "outputs": [],
   "source": [
    "def phi(x):\n",
    "    return 1, 2*x - 1, 8*pow(x,2) - 8*x + 1, 32*pow(x,3) - 48*pow(x,2) + 18*x - 1"
   ]
  },
  {
   "cell_type": "code",
   "execution_count": 43,
   "metadata": {},
   "outputs": [],
   "source": [
    "def mod_bas(coeff,x):\n",
    "    row0 = len(x)\n",
    "    row1 = len(coeff)\n",
    "    y = np.zeros(row0)\n",
    "    for i in range(row0):\n",
    "        temp = phi(x[i])\n",
    "        for j in range(row1):\n",
    "            y[i] +=  coeff[j]*temp[j]\n",
    "    return y"
   ]
  },
  {
   "cell_type": "code",
   "execution_count": 45,
   "metadata": {},
   "outputs": [
    {
     "data": {
      "text/plain": [
       "(-1.0, 2.0)"
      ]
     },
     "execution_count": 45,
     "metadata": {},
     "output_type": "execute_result"
    },
    {
     "data": {
      "image/png": "[encoded data removed]",
      "text/plain": [
       "<Figure size 432x288 with 1 Axes>"
      ]
     },
     "metadata": {
      "needs_background": "light"
     },
     "output_type": "display_data"
    }
   ],
   "source": [
    "y_mod = mod_bas(mat_c,x_new)\n",
    "\n",
    "plt.plot(x, y, \"o\", x_new, y_mod)\n",
    "\n",
    "plt.xlim([x[0]-1, x[-1] + 1 ])\n"
   ]
  },
  {
   "cell_type": "markdown",
   "metadata": {},
   "source": [
    "# Question 2"
   ]
  },
  {
   "cell_type": "code",
   "execution_count": null,
   "metadata": {},
   "outputs": [],
   "source": []
  }
 ],
 "metadata": {
  "kernelspec": {
   "display_name": "Python 3",
   "language": "python",
   "name": "python3"
  },
  "language_info": {
   "codemirror_mode": {
    "name": "ipython",
    "version": 3
   },
   "file_extension": ".py",
   "mimetype": "text/x-python",
   "name": "python",
   "nbconvert_exporter": "python",
   "pygments_lexer": "ipython3",
   "version": "3.7.4"
  }
 },
 "nbformat": 4,
 "nbformat_minor": 2
}
